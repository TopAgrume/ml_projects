{
  "cells": [
    {
      "cell_type": "markdown",
      "metadata": {
        "id": "xfNT-mlFwxVM"
      },
      "source": [
        "# Intro to Autoencoders"
      ]
    },
    {
      "cell_type": "markdown",
      "metadata": {
        "id": "ITZuApL56Mny"
      },
      "source": [
        "This notebook introduces autoencoders in the context of image compression use case.\n",
        "\n",
        "An autoencoder is a special type of neural network that is trained to copy its input to its output. For example, given an image of a handwritten digit, an autoencoder first encodes the image into a lower dimensional latent representation, then decodes the latent representation back to an image. An autoencoder learns to compress the data while minimizing the reconstruction error."
      ]
    },
    {
      "cell_type": "markdown",
      "metadata": {
        "id": "e1_Y75QXJS6h"
      },
      "source": [
        "## Import TensorFlow and other libraries"
      ]
    },
    {
      "cell_type": "code",
      "execution_count": null,
      "metadata": {
        "execution": {
          "iopub.execute_input": "2022-12-14T06:12:40.668592Z",
          "iopub.status.busy": "2022-12-14T06:12:40.668147Z",
          "iopub.status.idle": "2022-12-14T06:12:43.222802Z",
          "shell.execute_reply": "2022-12-14T06:12:43.221987Z"
        },
        "id": "YfIk2es3hJEd"
      },
      "outputs": [],
      "source": [
        "import matplotlib.pyplot as plt\n",
        "import numpy as np\n",
        "import pandas as pd\n",
        "import tensorflow as tf\n",
        "\n",
        "from sklearn.metrics import accuracy_score, precision_score, recall_score\n",
        "from sklearn.model_selection import train_test_split\n",
        "from tensorflow.keras import layers, losses\n",
        "from tensorflow.keras.datasets import fashion_mnist\n",
        "from tensorflow.keras.models import Model"
      ]
    },
    {
      "cell_type": "markdown",
      "metadata": {
        "id": "iYn4MdZnKCey"
      },
      "source": [
        "## Load the dataset\n",
        "To start, we will train the basic autoencoder using the Fashion MNIST dataset. Each image in this dataset is 28x28 pixels."
      ]
    },
    {
      "cell_type": "code",
      "execution_count": null,
      "metadata": {
        "colab": {
          "base_uri": "https://localhost:8080/"
        },
        "execution": {
          "iopub.execute_input": "2022-12-14T06:12:43.227459Z",
          "iopub.status.busy": "2022-12-14T06:12:43.226760Z",
          "iopub.status.idle": "2022-12-14T06:12:43.742908Z",
          "shell.execute_reply": "2022-12-14T06:12:43.742171Z"
        },
        "id": "YZm503-I_tji",
        "outputId": "2830f22c-1c8f-4215-f8fa-0fc76acf9989"
      },
      "outputs": [
        {
          "name": "stdout",
          "output_type": "stream",
          "text": [
            "Downloading data from https://storage.googleapis.com/tensorflow/tf-keras-datasets/train-labels-idx1-ubyte.gz\n",
            "29515/29515 [==============================] - 0s 0us/step\n",
            "Downloading data from https://storage.googleapis.com/tensorflow/tf-keras-datasets/train-images-idx3-ubyte.gz\n",
            "26421880/26421880 [==============================] - 1s 0us/step\n",
            "Downloading data from https://storage.googleapis.com/tensorflow/tf-keras-datasets/t10k-labels-idx1-ubyte.gz\n",
            "5148/5148 [==============================] - 0s 0us/step\n",
            "Downloading data from https://storage.googleapis.com/tensorflow/tf-keras-datasets/t10k-images-idx3-ubyte.gz\n",
            "4422102/4422102 [==============================] - 0s 0us/step\n",
            "(60000, 28, 28)\n",
            "(10000, 28, 28)\n"
          ]
        }
      ],
      "source": [
        "(x_train, _), (x_test, _) = fashion_mnist.load_data()\n",
        "\n",
        "x_train = x_train.astype('float32') / 255.\n",
        "x_test = x_test.astype('float32') / 255.\n",
        "\n",
        "print (x_train.shape)\n",
        "print (x_test.shape)"
      ]
    },
    {
      "cell_type": "markdown",
      "metadata": {
        "id": "VEdCXSwCoKok"
      },
      "source": [
        "**To start**\n",
        "\n",
        "This example defines an autoencoder with two Dense layers: an `encoder`, which compresses the images into a 64 dimensional latent vector, and a `decoder`, that reconstructs the original image from the latent space.\n"
      ]
    },
    {
      "cell_type": "code",
      "execution_count": null,
      "metadata": {
        "execution": {
          "iopub.execute_input": "2022-12-14T06:12:43.746890Z",
          "iopub.status.busy": "2022-12-14T06:12:43.746271Z",
          "iopub.status.idle": "2022-12-14T06:12:47.174336Z",
          "shell.execute_reply": "2022-12-14T06:12:47.173619Z"
        },
        "id": "0MUxidpyChjX"
      },
      "outputs": [],
      "source": [
        "latent_dim = 64\n",
        "\n",
        "class Autoencoder(Model):\n",
        "  def __init__(self, latent_dim):\n",
        "    super(Autoencoder, self).__init__()\n",
        "    self.latent_dim = latent_dim\n",
        "    self.encoder = tf.keras.Sequential([\n",
        "      layers.Flatten(),\n",
        "      layers.Dense(latent_dim, activation='relu'),\n",
        "    ])\n",
        "    self.decoder = tf.keras.Sequential([\n",
        "      layers.Dense(784, activation='sigmoid'),\n",
        "      layers.Reshape((28, 28))\n",
        "    ])\n",
        "\n",
        "  def call(self, x):\n",
        "    encoded = self.encoder(x)\n",
        "    decoded = self.decoder(encoded)\n",
        "    return decoded\n",
        "\n",
        "autoencoder = Autoencoder(latent_dim)"
      ]
    },
    {
      "cell_type": "code",
      "execution_count": null,
      "metadata": {
        "execution": {
          "iopub.execute_input": "2022-12-14T06:12:47.178636Z",
          "iopub.status.busy": "2022-12-14T06:12:47.178075Z",
          "iopub.status.idle": "2022-12-14T06:12:47.194568Z",
          "shell.execute_reply": "2022-12-14T06:12:47.193991Z"
        },
        "id": "9I1JlqEIDCI4"
      },
      "outputs": [],
      "source": [
        "autoencoder.compile(optimizer='adam', loss=losses.MeanSquaredError())"
      ]
    },
    {
      "cell_type": "markdown",
      "metadata": {
        "id": "7oJSeMTroABs"
      },
      "source": [
        "Train the model using `x_train` as both the input and the target. The `encoder` will learn to compress the dataset from 784 dimensions to the latent space, and the `decoder` will learn to reconstruct the original images.\n",
        "."
      ]
    },
    {
      "cell_type": "code",
      "execution_count": null,
      "metadata": {
        "colab": {
          "base_uri": "https://localhost:8080/"
        },
        "execution": {
          "iopub.execute_input": "2022-12-14T06:12:47.198144Z",
          "iopub.status.busy": "2022-12-14T06:12:47.197587Z",
          "iopub.status.idle": "2022-12-14T06:13:28.605951Z",
          "shell.execute_reply": "2022-12-14T06:13:28.605167Z"
        },
        "id": "h1RI9OfHDBsK",
        "outputId": "a3dcf1c1-a916-41b9-9ebe-21f050adbf63"
      },
      "outputs": [
        {
          "name": "stdout",
          "output_type": "stream",
          "text": [
            "Epoch 1/10\n",
            "1875/1875 [==============================] - 9s 3ms/step - loss: 0.0236 - val_loss: 0.0134\n",
            "Epoch 2/10\n",
            "1875/1875 [==============================] - 8s 4ms/step - loss: 0.0116 - val_loss: 0.0105\n",
            "Epoch 3/10\n",
            "1875/1875 [==============================] - 8s 4ms/step - loss: 0.0100 - val_loss: 0.0097\n",
            "Epoch 4/10\n",
            "1875/1875 [==============================] - 8s 4ms/step - loss: 0.0094 - val_loss: 0.0094\n",
            "Epoch 5/10\n",
            "1875/1875 [==============================] - 7s 3ms/step - loss: 0.0091 - val_loss: 0.0091\n",
            "Epoch 6/10\n",
            "1875/1875 [==============================] - 7s 4ms/step - loss: 0.0090 - val_loss: 0.0090\n",
            "Epoch 7/10\n",
            "1875/1875 [==============================] - 5s 3ms/step - loss: 0.0089 - val_loss: 0.0089\n",
            "Epoch 8/10\n",
            "1875/1875 [==============================] - 6s 3ms/step - loss: 0.0088 - val_loss: 0.0089\n",
            "Epoch 9/10\n",
            "1875/1875 [==============================] - 5s 3ms/step - loss: 0.0088 - val_loss: 0.0090\n",
            "Epoch 10/10\n",
            "1875/1875 [==============================] - 5s 3ms/step - loss: 0.0087 - val_loss: 0.0088\n"
          ]
        },
        {
          "data": {
            "text/plain": [
              "<keras.src.callbacks.History at 0x7dee1fc76410>"
            ]
          },
          "execution_count": 5,
          "metadata": {},
          "output_type": "execute_result"
        }
      ],
      "source": [
        "autoencoder.fit(x_train, x_train,\n",
        "                epochs=10,\n",
        "                shuffle=True,\n",
        "                validation_data=(x_test, x_test))"
      ]
    },
    {
      "cell_type": "markdown",
      "metadata": {
        "id": "wAM1QBhtoC-n"
      },
      "source": [
        "Now that the model is trained, let's test it by encoding and decoding images from the test set."
      ]
    },
    {
      "cell_type": "code",
      "execution_count": null,
      "metadata": {
        "execution": {
          "iopub.execute_input": "2022-12-14T06:13:28.609455Z",
          "iopub.status.busy": "2022-12-14T06:13:28.609161Z",
          "iopub.status.idle": "2022-12-14T06:13:28.709188Z",
          "shell.execute_reply": "2022-12-14T06:13:28.708405Z"
        },
        "id": "Pbr5WCj7FQUi"
      },
      "outputs": [],
      "source": [
        "encoded_imgs = autoencoder.encoder(x_test).numpy()\n",
        "decoded_imgs = autoencoder.decoder(encoded_imgs).numpy()"
      ]
    },
    {
      "cell_type": "code",
      "execution_count": null,
      "metadata": {
        "colab": {
          "base_uri": "https://localhost:8080/",
          "height": 345
        },
        "execution": {
          "iopub.execute_input": "2022-12-14T06:13:28.712776Z",
          "iopub.status.busy": "2022-12-14T06:13:28.712545Z",
          "iopub.status.idle": "2022-12-14T06:13:29.351321Z",
          "shell.execute_reply": "2022-12-14T06:13:29.350685Z"
        },
        "id": "s4LlDOS6FUA1",
        "outputId": "fd848421-5f73-4d3b-9d7c-7e9776d94ef7"
      },
      "outputs": [
        {
          "data": {
            "image/png": "[encoded data removed]",
            "text/plain": [
              "<Figure size 2000x400 with 20 Axes>"
            ]
          },
          "metadata": {},
          "output_type": "display_data"
        }
      ],
      "source": [
        "n = 10\n",
        "plt.figure(figsize=(20, 4))\n",
        "for i in range(n):\n",
        "  # display original\n",
        "  ax = plt.subplot(2, n, i + 1)\n",
        "  plt.imshow(x_test[i])\n",
        "  plt.title(\"original\")\n",
        "  plt.gray()\n",
        "  ax.get_xaxis().set_visible(False)\n",
        "  ax.get_yaxis().set_visible(False)\n",
        "\n",
        "  # display reconstruction\n",
        "  ax = plt.subplot(2, n, i + 1 + n)\n",
        "  plt.imshow(decoded_imgs[i])\n",
        "  plt.title(\"reconstructed\")\n",
        "  plt.gray()\n",
        "  ax.get_xaxis().set_visible(False)\n",
        "  ax.get_yaxis().set_visible(False)\n",
        "plt.show()"
      ]
    },
    {
      "cell_type": "markdown",
      "metadata": {
        "id": "y91-JR9un7Mn"
      },
      "source": [
        "**STEP 1: The main steps in the code above to achieve image compression**"
      ]
    },
    {
      "cell_type": "markdown",
      "metadata": {
        "id": "7FeLBCT16LKX"
      },
      "source": [
        "1. **Chargement du Jeu de Données :** Le jeu de données utilisé est le jeu de données Fashion MNIST, qui contient des images de 28x28 pixels. Une première étape de preprocessing est appliquée, à savoir la normalisation des valeurs des pixels des images.\n",
        "\n",
        "2. **Définition du Modèle d'Autoencodeur :** Dans le but de compresser les images, un autoencoder à deux layers dense est ici utilisé. Son architecture peut-être décomposée en 2 parties clés:\n",
        "   - **Encodeur :** Les images d'entrée (précédement normalisées) sont compressées dans un vecteur latent de dimension inférieur. Dans notre cas, l'image d'origine de taille initialle 28x28 est comprésée à l'intérieur d'un vecteur de taille 64. Le but est d'essayer de concerver le plus d'information possible de l'image d'origine dans un espace beaucoup plus petit.\n",
        "   - **Décodeur :** A partir de l'espace latent de taille 64 et des informations qui y sont contenus, les images sont reconstruites en format 28x28 (et elles restent normalisée).\n",
        "\n",
        "3. **Entraînement du Modèle :** Le modèle est entraîné en utilisant le jeu de données d'entraînement où les images d'entrée sont utilisées à la fois comme entrée et comme sortie cible. En effet, le but est d'apprendre le modèle à mieux structurer les informations de l'image d'origine dans le vecteur latent afin qu'il puisse reconstruire de mieux en mieux les images originales. Cela se fait en \"pénalisant\" plus les images mal reconstruites que celle mieux reconstruites (à l'aide de la loss: MeanSquaredError (MSE))\n",
        "\n",
        "$$\\text{MSE}(y, \\hat{y}) = \\frac{\\sum_{i=0}^{N - 1} (y_i - \\hat{y}_i)^2}{N}$$\n",
        "\n",
        " Evidemment, cette méthode de compression/décompression n'est pas parfait et implique donc de la perte, c'est à dire que les images reconstruites sont souvent un peu différentes visuellement de l'image d'origine.\n",
        "\n",
        "5. **Test du Modèle :** Après l'entraînement, la performance du modèle est évaluée en encodant et décodant des images du jeu de test pour voir à quel point les images originales sont bien reconstruites."
      ]
    },
    {
      "cell_type": "markdown",
      "metadata": {
        "id": "jjKKeuf7ob92"
      },
      "source": [
        "**STEP 2: Checking the compression quality for every image of the previous figure. Let's measure it and define correlated metrics to the subjective perspective.**"
      ]
    },
    {
      "cell_type": "markdown",
      "metadata": {
        "id": "O_BQBXT06NSL"
      },
      "source": [
        "Visuellement, les images reconstruites sont proches des images d'origine.On devine facilement l'image d'origine liée à l'image reconstruite mais on remarque tout de même une dégradation notable au niveau des détails. En effet, des inscriptions ou des patterns de couleurs sont floues.\n",
        "\n",
        "Mis à part mon avis subjectif, il est difficile d'évaluer la qualité visuelle d'une image par rapport à une image d'origine de façon objective. Certains modèles du SVH sont utilisés pour prendre en compte la sensibilité aux fréquences, les masquages, etc... mais je ne vais pas ici en utiliserr.\n",
        "\n",
        "Cependant, il est possible et plus facile de quantitativement (donc objectivement) mesurer la qualité de reconstruction d'une image par rapport à l'image d'origine notamment à l'aide de métriques telles que:\n",
        "\n",
        "- L'erreur quadratique moyenne (Mean Squared Error - MSE) nous donne la moyenne des écarts quadratiques entre les deux images.\n",
        "\n",
        "$$\\text{MSE}(y, \\hat{y}) = \\frac{\\sum_{i=0}^{N - 1} (y_i - \\hat{y}_i)^2}{N}$$\n",
        "\n",
        "- Le rapport signal-sur-bruit de crête (Peak Signal-to-Noise Ratio - PSNR) quantifie la différence entre les deux images.\n",
        "\n",
        "$$MAX_I = 255$$\n",
        "$$\\text{PSNR} = 10 \\cdot \\log_{10} \\left( \\frac{MAX_I^2}{\\text{MSE}} \\right)$$\n",
        "\n",
        "Calculons ces 2 métriques sur un batch d'echantillons:"
      ]
    },
    {
      "cell_type": "code",
      "execution_count": null,
      "metadata": {
        "id": "X_oxdJKB6NgS"
      },
      "outputs": [],
      "source": [
        "import numpy as np\n",
        "import matplotlib.pyplot as plt\n",
        "from skimage.metrics import peak_signal_noise_ratio as psnr, mean_squared_error as mse\n",
        "\n",
        "# Function to calculate MSE\n",
        "def calculate_mse(original, reconstructed):\n",
        "    return mse(original, reconstructed) # Already done with numpy yeasterday\n",
        "\n",
        "# Function to calculate PSNR\n",
        "def calculate_psnr(original, reconstructed):\n",
        "    return psnr(original, reconstructed) # Already done with numpy yeasterday\n",
        "\n",
        "def plot_quantitative_analysis(x_test, decoded_imgs):\n",
        "  plt.figure(figsize=(50, 10))\n",
        "  for i in range(2):\n",
        "      # Calculate MSE and PSNR for the current sample\n",
        "      current_mse = calculate_mse(x_test[i], decoded_imgs[i])\n",
        "      current_psnr = calculate_psnr(x_test[i], decoded_imgs[i])\n",
        "\n",
        "      # Display original\n",
        "      ax = plt.subplot(2, n, i + 1)\n",
        "      plt.imshow(x_test[i])\n",
        "      plt.title(\"Original\")\n",
        "      plt.gray()\n",
        "      ax.get_xaxis().set_visible(False)\n",
        "      ax.get_yaxis().set_visible(False)\n",
        "\n",
        "      # Display reconstruction\n",
        "      ax = plt.subplot(2, n, i + 1 + n)\n",
        "      plt.imshow(decoded_imgs[i])\n",
        "      plt.title(f\"Reconstructed\\nMSE: {current_mse:.4f}, PSNR: {current_psnr:.2f} dB\")\n",
        "      plt.gray()\n",
        "      ax.get_xaxis().set_visible(False)\n",
        "      ax.get_yaxis().set_visible(False)\n",
        "\n",
        "  plt.show()\n",
        "  plt.close()"
      ]
    },
    {
      "cell_type": "code",
      "execution_count": null,
      "metadata": {
        "colab": {
          "base_uri": "https://localhost:8080/",
          "height": 807
        },
        "id": "Iz40Ywc7J59C",
        "outputId": "9969c20e-a247-4e86-ce63-1017565deeed"
      },
      "outputs": [
        {
          "data": {
            "image/png": "[encoded data removed]",
            "text/plain": [
              "<Figure size 5000x1000 with 4 Axes>"
            ]
          },
          "metadata": {},
          "output_type": "display_data"
        }
      ],
      "source": [
        "plot_quantitative_analysis(x_test, decoded_imgs)"
      ]
    },
    {
      "cell_type": "markdown",
      "metadata": {
        "id": "gpPTA-HAFVBi"
      },
      "source": [
        "Comme nous pouvons le voir, il y a visuellement des différences, mais pour autant la MSE reste êtrèment faible identiquent que les images d'origine et reconstruites sont quantitativement très proches.\n",
        "\n",
        "La PSNR elle n'est pas très élevée, signifiant donc que les artefacts introduits par la compression ou la reconstruction sont perceptibles pour l'oeil humain."
      ]
    },
    {
      "cell_type": "markdown",
      "metadata": {
        "id": "TMBsLWNYqEf9"
      },
      "source": [
        "**STEP 3 : Let's implement a function to fine-tune the auto-encoder parameters and achieve acceptable compression performance**"
      ]
    },
    {
      "cell_type": "markdown",
      "metadata": {
        "id": "2DvNFiTtMCuv"
      },
      "source": [
        "Tout d'abord définissons une fonction permettant de cacluler le taux de compression (T) et regardons la valeurs de T pour le modèle par défaut."
      ]
    },
    {
      "cell_type": "code",
      "execution_count": null,
      "metadata": {
        "id": "u0orhyErLqzP"
      },
      "outputs": [],
      "source": [
        "def get_compression_rate(encoded_imgs, decoded_imgs):\n",
        "    return decoded_imgs[0].shape[0] * decoded_imgs[0].shape[1] / encoded_imgs[0].shape[0]"
      ]
    },
    {
      "cell_type": "code",
      "execution_count": null,
      "metadata": {
        "colab": {
          "base_uri": "https://localhost:8080/"
        },
        "id": "LPgrS4iVL1n3",
        "outputId": "2a3c03c4-cc7b-4961-ed95-7b9559ddc03c"
      },
      "outputs": [
        {
          "name": "stdout",
          "output_type": "stream",
          "text": [
            "T1: 12.25\n"
          ]
        }
      ],
      "source": [
        "compression_rate = get_compression_rate(encoded_imgs, decoded_imgs)\n",
        "\n",
        "print(\"T1:\", compression_rate)"
      ]
    },
    {
      "cell_type": "markdown",
      "metadata": {
        "id": "EurI8KN6KYVh"
      },
      "source": [
        "Ici nous allons jouer avec les hyperparamètres pour essayer de trouver un modèle plus performant. Il serait plus judicieux de lancer un Grid Search ou Optuna sur les hyperparamètres pour trouver le meilleur modèle possible, cepandant par manque de temps nous allons simplement changer certains hyperparamètres à la main.\n",
        "\n",
        "Dans le but d'obtenir de meilleur résultats j'ai augmenté le nombre d'époques pour l'entrainement de 10 à 50, augmenter le nombre d'images d'entrainement par batch ainsi qu'augmenté la taille du vecteur latent pour qu'il puisse retenir plus de détails de l'image originale."
      ]
    },
    {
      "cell_type": "code",
      "execution_count": null,
      "metadata": {
        "id": "p3JQa9ksI5lh"
      },
      "outputs": [],
      "source": [
        "def fine_tune_autoencoder(encoding_dim=64, epochs=50, batch_size=64):\n",
        "    autoencoder = Autoencoder(encoding_dim)\n",
        "    autoencoder.compile(optimizer='adam', loss='mse')\n",
        "\n",
        "    history = autoencoder.fit(x_train, x_train,\n",
        "                              epochs=epochs,\n",
        "                              batch_size=batch_size,\n",
        "                              shuffle=True,\n",
        "                              validation_data=(x_test, x_test))\n",
        "\n",
        "    loss = history.history['loss']\n",
        "    val_loss = history.history['val_loss']\n",
        "    print(f'Final training loss: {loss[-1]}')\n",
        "    print(f'Final validation loss: {val_loss[-1]}')\n",
        "\n",
        "    return autoencoder, history"
      ]
    },
    {
      "cell_type": "code",
      "execution_count": null,
      "metadata": {
        "colab": {
          "base_uri": "https://localhost:8080/"
        },
        "id": "-924oWvMJQgY",
        "outputId": "560b639c-2a0c-474b-ae45-99df722994de"
      },
      "outputs": [
        {
          "name": "stdout",
          "output_type": "stream",
          "text": [
            "Epoch 1/50\n",
            "235/235 [==============================] - 2s 5ms/step - loss: 0.0443 - val_loss: 0.0231\n",
            "Epoch 2/50\n",
            "235/235 [==============================] - 1s 4ms/step - loss: 0.0186 - val_loss: 0.0155\n",
            "Epoch 3/50\n",
            "235/235 [==============================] - 1s 4ms/step - loss: 0.0136 - val_loss: 0.0124\n",
            "Epoch 4/50\n",
            "235/235 [==============================] - 1s 4ms/step - loss: 0.0115 - val_loss: 0.0109\n",
            "Epoch 5/50\n",
            "235/235 [==============================] - 1s 4ms/step - loss: 0.0102 - val_loss: 0.0099\n",
            "Epoch 6/50\n",
            "235/235 [==============================] - 1s 4ms/step - loss: 0.0094 - val_loss: 0.0091\n",
            "Epoch 7/50\n",
            "235/235 [==============================] - 1s 5ms/step - loss: 0.0087 - val_loss: 0.0086\n",
            "Epoch 8/50\n",
            "235/235 [==============================] - 1s 5ms/step - loss: 0.0082 - val_loss: 0.0081\n",
            "Epoch 9/50\n",
            "235/235 [==============================] - 1s 6ms/step - loss: 0.0078 - val_loss: 0.0077\n",
            "Epoch 10/50\n",
            "235/235 [==============================] - 1s 4ms/step - loss: 0.0075 - val_loss: 0.0075\n",
            "Epoch 11/50\n",
            "235/235 [==============================] - 1s 4ms/step - loss: 0.0072 - val_loss: 0.0073\n",
            "Epoch 12/50\n",
            "235/235 [==============================] - 1s 4ms/step - loss: 0.0069 - val_loss: 0.0069\n",
            "Epoch 13/50\n",
            "235/235 [==============================] - 1s 4ms/step - loss: 0.0067 - val_loss: 0.0068\n",
            "Epoch 14/50\n",
            "235/235 [==============================] - 1s 4ms/step - loss: 0.0066 - val_loss: 0.0066\n",
            "Epoch 15/50\n",
            "235/235 [==============================] - 1s 4ms/step - loss: 0.0064 - val_loss: 0.0065\n",
            "Epoch 16/50\n",
            "235/235 [==============================] - 1s 4ms/step - loss: 0.0063 - val_loss: 0.0064\n",
            "Epoch 17/50\n",
            "235/235 [==============================] - 1s 4ms/step - loss: 0.0062 - val_loss: 0.0063\n",
            "Epoch 18/50\n",
            "235/235 [==============================] - 1s 4ms/step - loss: 0.0061 - val_loss: 0.0063\n",
            "Epoch 19/50\n",
            "235/235 [==============================] - 1s 4ms/step - loss: 0.0060 - val_loss: 0.0061\n",
            "Epoch 20/50\n",
            "235/235 [==============================] - 1s 4ms/step - loss: 0.0060 - val_loss: 0.0061\n",
            "Epoch 21/50\n",
            "235/235 [==============================] - 1s 5ms/step - loss: 0.0059 - val_loss: 0.0061\n",
            "Epoch 22/50\n",
            "235/235 [==============================] - 1s 5ms/step - loss: 0.0059 - val_loss: 0.0060\n",
            "Epoch 23/50\n",
            "235/235 [==============================] - 1s 5ms/step - loss: 0.0058 - val_loss: 0.0062\n",
            "Epoch 24/50\n",
            "235/235 [==============================] - 1s 4ms/step - loss: 0.0058 - val_loss: 0.0059\n",
            "Epoch 25/50\n",
            "235/235 [==============================] - 1s 4ms/step - loss: 0.0057 - val_loss: 0.0058\n",
            "Epoch 26/50\n",
            "235/235 [==============================] - 1s 4ms/step - loss: 0.0057 - val_loss: 0.0058\n",
            "Epoch 27/50\n",
            "235/235 [==============================] - 1s 4ms/step - loss: 0.0056 - val_loss: 0.0057\n",
            "Epoch 28/50\n",
            "235/235 [==============================] - 1s 4ms/step - loss: 0.0056 - val_loss: 0.0057\n",
            "Epoch 29/50\n",
            "235/235 [==============================] - 1s 4ms/step - loss: 0.0056 - val_loss: 0.0057\n",
            "Epoch 30/50\n",
            "235/235 [==============================] - 2s 6ms/step - loss: 0.0055 - val_loss: 0.0059\n",
            "Epoch 31/50\n",
            "235/235 [==============================] - 2s 7ms/step - loss: 0.0055 - val_loss: 0.0057\n",
            "Epoch 32/50\n",
            "235/235 [==============================] - 2s 8ms/step - loss: 0.0055 - val_loss: 0.0056\n",
            "Epoch 33/50\n",
            "235/235 [==============================] - 2s 10ms/step - loss: 0.0055 - val_loss: 0.0056\n",
            "Epoch 34/50\n",
            "235/235 [==============================] - 2s 7ms/step - loss: 0.0054 - val_loss: 0.0056\n",
            "Epoch 35/50\n",
            "235/235 [==============================] - 1s 6ms/step - loss: 0.0054 - val_loss: 0.0055\n",
            "Epoch 36/50\n",
            "235/235 [==============================] - 1s 6ms/step - loss: 0.0054 - val_loss: 0.0055\n",
            "Epoch 37/50\n",
            "235/235 [==============================] - 2s 6ms/step - loss: 0.0054 - val_loss: 0.0057\n",
            "Epoch 38/50\n",
            "235/235 [==============================] - 2s 8ms/step - loss: 0.0053 - val_loss: 0.0055\n",
            "Epoch 39/50\n",
            "235/235 [==============================] - 2s 7ms/step - loss: 0.0053 - val_loss: 0.0055\n",
            "Epoch 40/50\n",
            "235/235 [==============================] - 2s 7ms/step - loss: 0.0053 - val_loss: 0.0054\n",
            "Epoch 41/50\n",
            "235/235 [==============================] - 1s 5ms/step - loss: 0.0053 - val_loss: 0.0054\n",
            "Epoch 42/50\n",
            "235/235 [==============================] - 1s 5ms/step - loss: 0.0053 - val_loss: 0.0055\n",
            "Epoch 43/50\n",
            "235/235 [==============================] - 1s 4ms/step - loss: 0.0053 - val_loss: 0.0055\n",
            "Epoch 44/50\n",
            "235/235 [==============================] - 1s 4ms/step - loss: 0.0053 - val_loss: 0.0054\n",
            "Epoch 45/50\n",
            "235/235 [==============================] - 1s 4ms/step - loss: 0.0052 - val_loss: 0.0054\n",
            "Epoch 46/50\n",
            "235/235 [==============================] - 1s 4ms/step - loss: 0.0052 - val_loss: 0.0054\n",
            "Epoch 47/50\n",
            "235/235 [==============================] - 1s 4ms/step - loss: 0.0052 - val_loss: 0.0054\n",
            "Epoch 48/50\n",
            "235/235 [==============================] - 1s 4ms/step - loss: 0.0052 - val_loss: 0.0054\n",
            "Epoch 49/50\n",
            "235/235 [==============================] - 1s 4ms/step - loss: 0.0052 - val_loss: 0.0054\n",
            "Epoch 50/50\n",
            "235/235 [==============================] - 1s 4ms/step - loss: 0.0052 - val_loss: 0.0054\n",
            "Final training loss: 0.005206072703003883\n",
            "Final validation loss: 0.005386851727962494\n"
          ]
        }
      ],
      "source": [
        "autoencoder, history = fine_tune_autoencoder(encoding_dim=128, epochs=50, batch_size=256)\n",
        "\n",
        "encoded_imgs = autoencoder.encoder(x_test).numpy()\n",
        "decoded_imgs = autoencoder.decoder(encoded_imgs).numpy()"
      ]
    },
    {
      "cell_type": "code",
      "execution_count": null,
      "metadata": {
        "colab": {
          "base_uri": "https://localhost:8080/"
        },
        "id": "TRy3vdTPLla0",
        "outputId": "36e5494b-e7a1-458e-b602-c246ef6a3320"
      },
      "outputs": [
        {
          "name": "stdout",
          "output_type": "stream",
          "text": [
            "T_after_fine_tune: 6.125\n"
          ]
        }
      ],
      "source": [
        "compression_rate = get_compression_rate(encoded_imgs, decoded_imgs)\n",
        "print(\"T_after_fine_tune:\", compression_rate)"
      ]
    },
    {
      "cell_type": "code",
      "execution_count": null,
      "metadata": {
        "colab": {
          "base_uri": "https://localhost:8080/",
          "height": 807
        },
        "id": "zkNoPIpWJ_DI",
        "outputId": "eeb1cc65-e538-43a5-b539-6164f1ff64aa"
      },
      "outputs": [
        {
          "data": {
            "image/png": "[encoded data removed]",
            "text/plain": [
              "<Figure size 5000x1000 with 4 Axes>"
            ]
          },
          "metadata": {},
          "output_type": "display_data"
        }
      ],
      "source": [
        "plot_quantitative_analysis(x_test, decoded_imgs)"
      ]
    },
    {
      "cell_type": "markdown",
      "metadata": {
        "id": "UwwJBa886O9N"
      },
      "source": [
        "On remarque que la compression est quantitativement et visuellement meilleure. En effet, visuellement c'est plutot flagrant et quantitativement la MSE a diminué en général, et le PSNR a augmenté indiquant donc que la reconstruction est très proche de l'original et que les artefacts sont moins visibles.\n",
        "\n",
        "Cependant, cela a un impact direct sur le taux de compression. En effet il est 2 fois moins élevé, passant de ~12 à ~6."
      ]
    },
    {
      "cell_type": "markdown",
      "metadata": {
        "id": "35vlD0vtqMg6"
      },
      "source": [
        "**STEP 4: Let's run compression on new aditionnal images and conclude about model architecture VS images types / resolution.**"
      ]
    },
    {
      "cell_type": "code",
      "execution_count": null,
      "metadata": {
        "id": "UD63o8VXRIGf"
      },
      "outputs": [],
      "source": [
        "from PIL import Image\n",
        "\n",
        "img_path = 'COCO_natural.jpeg'\n",
        "img = Image.open(img_path).convert('L')\n",
        "img = img.resize((28, 28))\n",
        "img_array = np.array(img) / 255.0\n",
        "img_array = img_array.reshape((1, 28, 28))\n",
        "\n",
        "# Encode and decode the image using the autoencoder\n",
        "encoded_img = autoencoder.encoder(img_array).numpy()\n",
        "decoded_img = autoencoder.decoder(encoded_img).numpy()"
      ]
    },
    {
      "cell_type": "code",
      "execution_count": null,
      "metadata": {
        "colab": {
          "base_uri": "https://localhost:8080/",
          "height": 384
        },
        "id": "UPAhp-xvRMuq",
        "outputId": "d59f436b-fec2-4232-8682-161113199f3f"
      },
      "outputs": [
        {
          "data": {
            "text/plain": [
              "(-0.5, 27.5, 27.5, -0.5)"
            ]
          },
          "execution_count": 20,
          "metadata": {},
          "output_type": "execute_result"
        },
        {
          "data": {
            "image/png": "[encoded data removed]",
            "text/plain": [
              "<Figure size 1000x400 with 2 Axes>"
            ]
          },
          "metadata": {},
          "output_type": "display_data"
        }
      ],
      "source": [
        "# Display the original and reconstructed images\n",
        "plt.figure(figsize=(10, 4))\n",
        "\n",
        "# Display original image\n",
        "ax = plt.subplot(1, 2, 1)\n",
        "plt.imshow(img_array[0], cmap='gray')\n",
        "plt.title(\"Original Image\")\n",
        "plt.axis('off')\n",
        "\n",
        "# Display reconstructed image\n",
        "ax = plt.subplot(1, 2, 2)\n",
        "plt.imshow(decoded_img[0], cmap='gray')\n",
        "plt.title(\"Reconstructed Image\")\n",
        "plt.axis('off')"
      ]
    },
    {
      "cell_type": "markdown",
      "metadata": {
        "id": "m48PF9MxP9ww"
      },
      "source": [
        "### Conclusion :\n",
        "\n",
        "1. **Performances de l'Autoencodeur sur des Types/Résolutions Différentes :**\n",
        "   - **Fashion MNIST vs. COCO_natural.jpeg :** L'autoencodeur entraîné sur le jeu de données Fashion MNIST, qui contient des images en niveaux de gris de 28x28 pixels, peut rencontrer des difficultés à généraliser et à bien reconstruire des images de types/résolutions différentes comme `COCO_natural.jpeg`.\n",
        "   - **Complexité des Détails :** Les images de haute résolution ou en couleur (comme les images du jeu de données CIFAR-10) nécessitent une architecture plus complexe (par exemple, en ajoutant des couches convolutionnelles) pour capturer des détails plus fins et des caractéristiques complexes.\n",
        "\n",
        "En résumé, l'architecture du modèle doit être adaptée au type et à la résolution des images pour obtenir de bonnes performances de compression et de reconstruction."
      ]
    }
  ],
  "metadata": {
    "accelerator": "GPU",
    "colab": {
      "provenance": []
    },
    "kernelspec": {
      "display_name": "Python 3",
      "name": "python3"
    },
    "language_info": {
      "codemirror_mode": {
        "name": "ipython",
        "version": 3
      },
      "file_extension": ".py",
      "mimetype": "text/x-python",
      "name": "python",
      "nbconvert_exporter": "python",
      "pygments_lexer": "ipython3",
      "version": "3.9.16"
    }
  },
  "nbformat": 4,
  "nbformat_minor": 0
}
